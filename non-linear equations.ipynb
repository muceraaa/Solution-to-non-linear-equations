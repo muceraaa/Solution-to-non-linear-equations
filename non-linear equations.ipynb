{
 "cells": [
  {
   "cell_type": "code",
   "execution_count": 7,
   "id": "e6ad83b4",
   "metadata": {},
   "outputs": [
    {
     "name": "stdout",
     "output_type": "stream",
     "text": [
      "Root found at x =2.754624\n",
      "23\n"
     ]
    }
   ],
   "source": [
    "# Bisection method\n",
    "import math\n",
    "def f(x):\n",
    "    return x**4-2*x**3-5*x-2\n",
    "a=2\n",
    "b=3\n",
    "tolerance= 1e-6\n",
    "max_iterations=100\n",
    "count=0\n",
    "\n",
    "for i in range(max_iterations):\n",
    "    c=(a+b)/2\n",
    "    count+=1\n",
    "    if abs (f(c)) < tolerance:\n",
    "        print(f\"Root found at x ={c:.6f}\")\n",
    "        break\n",
    "    elif f(c) * f(a) < 0 :\n",
    "        b=c\n",
    "    else:\n",
    "        a=c\n",
    "print(count);"
   ]
  },
  {
   "cell_type": "code",
   "execution_count": 1,
   "id": "2423a963",
   "metadata": {},
   "outputs": [
    {
     "name": "stdout",
     "output_type": "stream",
     "text": [
      "Root found at x =2.754624\n",
      "8\n"
     ]
    }
   ],
   "source": [
    "#Newton Raphson method\n",
    "import math\n",
    "def f(x):\n",
    "    return x**4-2*x**3-5*x-2\n",
    "def df(x):\n",
    "    return 4*x**3-6*x**2-5\n",
    "x0=2\n",
    "tolerance=1e-6\n",
    "max_iterations=100\n",
    "count =0\n",
    "for i in range(max_iterations):\n",
    "    fx=f(x0)\n",
    "    dfx=df(x0)\n",
    "    x1=x0-f(x0)/df(x0)\n",
    "    count+=1\n",
    "    if abs (f(x1)) < tolerance:\n",
    "        print(f\"Root found at x ={x1:.6f}\")\n",
    "        break \n",
    "    else:\n",
    "        x0=x1\n",
    "print(count)\n",
    "    "
   ]
  },
  {
   "cell_type": "code",
   "execution_count": null,
   "id": "cdfb6f7c",
   "metadata": {},
   "outputs": [],
   "source": []
  }
 ],
 "metadata": {
  "kernelspec": {
   "display_name": "Python 3 (ipykernel)",
   "language": "python",
   "name": "python3"
  },
  "language_info": {
   "codemirror_mode": {
    "name": "ipython",
    "version": 3
   },
   "file_extension": ".py",
   "mimetype": "text/x-python",
   "name": "python",
   "nbconvert_exporter": "python",
   "pygments_lexer": "ipython3",
   "version": "3.9.7"
  }
 },
 "nbformat": 4,
 "nbformat_minor": 5
}
